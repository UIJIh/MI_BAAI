{
 "cells": [
  {
   "cell_type": "code",
   "execution_count": 4,
   "metadata": {},
   "outputs": [
    {
     "name": "stdout",
     "output_type": "stream",
     "text": [
      "Filtered DataFrame saved to /share/project/gsai/uiji/datasets/filtered_EN_idiom_3849.csv\n"
     ]
    }
   ],
   "source": [
    "import pandas as pd\n",
    "\n",
    "input_csv_path = '/share/project/gsai/uiji/datasets/EN_idiom_3990.csv'\n",
    "df = pd.read_csv(input_csv_path)\n",
    "\n",
    "# 'id' 열 제거\n",
    "df = df.drop(columns=['id'])\n",
    "\n",
    "# 'idiom' 열에 '_'가 포함된 행 제거\n",
    "df = df[~df['idiom'].str.contains('_')]\n",
    "df = df.reset_index(drop=True)\n",
    "row_count = len(df)\n",
    "\n",
    "output_csv_path = f'/share/project/gsai/uiji/datasets/filtered_EN_idiom_{row_count}.csv'  \n",
    "\n",
    "df.to_csv(output_csv_path, index=False)\n",
    "print(f\"Filtered DataFrame saved to {output_csv_path}\")\n"
   ]
  }
 ],
 "metadata": {
  "kernelspec": {
   "display_name": "uiji_10.16",
   "language": "python",
   "name": "python3"
  },
  "language_info": {
   "codemirror_mode": {
    "name": "ipython",
    "version": 3
   },
   "file_extension": ".py",
   "mimetype": "text/x-python",
   "name": "python",
   "nbconvert_exporter": "python",
   "pygments_lexer": "ipython3",
   "version": "3.10.16"
  }
 },
 "nbformat": 4,
 "nbformat_minor": 2
}
